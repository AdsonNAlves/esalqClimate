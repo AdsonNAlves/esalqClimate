{
 "cells": [
  {
   "cell_type": "code",
   "execution_count": null,
   "metadata": {},
   "outputs": [],
   "source": [
    "! pip install pandas numpy matplotlib xlrd openpyxl\n",
    "! pip install scikit-learn seaborn yellowbrick statsmodels prophet\n",
    "! pip install ipywidgets --upgrade\n",
    "! pip install jupyter --upgrade"
   ]
  },
  {
   "cell_type": "code",
   "execution_count": null,
   "metadata": {},
   "outputs": [],
   "source": [
    "import os\n",
    "import pandas as pd\n",
    "import numpy as np\n",
    "import matplotlib.pyplot as plt\n",
    "from prophet import Prophet"
   ]
  },
  {
   "cell_type": "code",
   "execution_count": null,
   "metadata": {},
   "outputs": [],
   "source": [
    "var = pd.read_csv('../variable_descriptions.csv')\n",
    "var"
   ]
  },
  {
   "cell_type": "code",
   "execution_count": 84,
   "metadata": {},
   "outputs": [],
   "source": [
    "data = pd.read_csv(\"../data9724.csv.gz\", compression=\"gzip\")"
   ]
  },
  {
   "cell_type": "code",
   "execution_count": 87,
   "metadata": {},
   "outputs": [],
   "source": [
    "data.drop('ds', axis=1, inplace=True)"
   ]
  },
  {
   "cell_type": "code",
   "execution_count": null,
   "metadata": {},
   "outputs": [],
   "source": [
    "data['DATATIME']= pd.to_datetime(data['ANO'].astype(str) + data['DIAJ'].astype(str),format='%Y%j')\n",
    "data.set_index(\"DATATIME\",inplace=True)\n",
    "data"
   ]
  },
  {
   "cell_type": "code",
   "execution_count": null,
   "metadata": {},
   "outputs": [],
   "source": [
    "data.index.name = 'ds'\n",
    "data"
   ]
  },
  {
   "cell_type": "code",
   "execution_count": null,
   "metadata": {},
   "outputs": [],
   "source": [
    "for i in ['TAR','UR','CHUVA']:\n",
    "    if i == 'CHUVA':\n",
    "        df_c = data.drop(data[data['CHUVA']<0].index)\n",
    "        aux = df_c[df_c['CHUVA']>0][i]\n",
    "        print(aux.head())\n",
    "    else:\n",
    "        # Calcula Q1, Q3 e IQR\n",
    "        Q1 = data[i].quantile(0.25)\n",
    "        Q3 = data[i].quantile(0.75)\n",
    "        IQR = Q3 - Q1\n",
    "\n",
    "        # Define os limites\n",
    "        lower_bound = Q1 - 1.5 * IQR\n",
    "        upper_bound = Q3 + 1.5 * IQR\n",
    "\n",
    "        # Filtra os valores dentro dos limites\n",
    "        aux = data[(data[i] >= lower_bound) & (data[i] <= upper_bound)][i]\n",
    "    \n",
    "    aux = aux.reset_index()\n",
    "    df = aux.resample('D', on='ds').mean().reset_index()\n",
    "    df_test = aux.resample('YE', on='ds').mean().reset_index()\n",
    "    df.columns = ['ds','y']\n",
    "    # Criar modelo Prophet com sazonalidades diárias e anuais\n",
    "    model = Prophet(interval_width=0.95)  \n",
    "    model.add_seasonality(name='daily', period=1, fourier_order=10)\n",
    "    # model.add_seasonality(name='weekend_effect', period=7, fourier_order=5)\n",
    "    model.add_seasonality(name='yearly', period=365.25, fourier_order=20)\n",
    "\n",
    "    # Treinar o modelo\n",
    "    model.fit(df)\n",
    "    # Fazer previsões para todo o período histórico\n",
    "    future = model.make_future_dataframe(periods=0, freq='D')  # Apenas prever dados passados\n",
    "    forecast = model.predict(future)\n",
    "    # Adicionar previsões ao DataFrame original\n",
    "    df['yhat'] = forecast['yhat']\n",
    "    df['residual'] = df['y'] - df['yhat']\n",
    "    # Definir limites para eventos extremos\n",
    "    limite_superior = df['residual'].mean() + 2 * df['residual'].std()\n",
    "    limite_inferior = df['residual'].mean() - 2 * df['residual'].std()\n",
    "    # Filtrar eventos extremos\n",
    "    eventos_extremos = df[(df['residual'] > limite_superior) | (df['residual'] < limite_inferior)]\n",
    "    # Criar coluna com ano dos eventos extremos\n",
    "    eventos_extremos['year'] = eventos_extremos['ds'].dt.year\n",
    "    # Contar eventos extremos por ano\n",
    "    frequencia_eventos = eventos_extremos.groupby('year').size().reset_index(name='num_eventos')\n",
    "    frequencia_eventos['DATATIME'] = pd.to_datetime(frequencia_eventos['year'],format='%Y')\n",
    "    # SALVAR tabela com a frequência anual de eventos extremos\n",
    "    frequencia_eventos.to_csv(\"../data9724\"+f\"_{i}\"+\".csv.gz\", compression=\"gzip\")\n",
    "    \n",
    "    # Preparar os dados para o Prophet\n",
    "    df_pro = frequencia_eventos.reset_index().rename(columns={'DATATIME': 'ds', 'num_eventos': 'y'})\n",
    "    # Inicializar o modelo\n",
    "    model = Prophet()\n",
    "    # Ajustar o modelo\n",
    "    model.fit(df_pro)\n",
    "    # Criar um DataFrame para datas futuras\n",
    "    future = model.make_future_dataframe(periods=10, freq='Y')\n",
    "    # Fazer previsões\n",
    "    forecast = model.predict(future)\n",
    "    # Plotar a série original\n",
    "    plt.figure(figsize=(20, 6))\n",
    "    plt.subplot(2, 1, 1)\n",
    "    plt.plot(df_pro['ds'], df_pro['y'], label=i, color='blue')\n",
    "    # Plotar a previsão\n",
    "    plt.plot(forecast['ds'], forecast['yhat'], label='Forecast', color='red')\n",
    "    # Adicionar intervalos de incerteza\n",
    "    plt.fill_between(forecast['ds'], forecast['yhat_lower'], forecast['yhat_upper'], color='green', alpha=0.2)\n",
    "    \n",
    "    # Configurar o gráfico\n",
    "    plt.title(var[var['Variable'] == i]['Description'].values[0] )\n",
    "    plt.xlabel(\"Sampling\")\n",
    "    plt.ylabel(i)\n",
    "    plt.grid(True, linestyle='--', color='gray', alpha=0.5)\n",
    "    plt.legend()\n",
    "\n",
    "    # Salvar o gráfico da previsão\n",
    "    plt.savefig(f\"../images/{i}_\"+\"sample.png\", dpi=300)\n",
    "\n",
    "    # Limpar a figura atual para o próximo gráfico\n",
    "    plt.clf()\n",
    "\n",
    "    # Segundo gráfico\n",
    "    plt.figure(figsize=(20, 6))\n",
    "    plt.plot(df_test['ds'], df_test[i], label=i)\n",
    "    plt.title(var[var['Variable'] == i]['Description'].values[0] )\n",
    "    plt.xlabel(\"Sampling\")\n",
    "    plt.ylabel(i)\n",
    "    plt.grid(True, linestyle='--', color='gray', alpha=0.5)\n",
    "    plt.legend()\n",
    "\n",
    "    # Salvar o gráfico de teste\n",
    "    plt.savefig(f\"../images/{i}_\"+\"mean.png\", dpi=300)\n",
    "\n",
    "    # Limpar a figura para evitar sobreposição\n",
    "    plt.clf()\n"
   ]
  },
  {
   "cell_type": "code",
   "execution_count": null,
   "metadata": {},
   "outputs": [],
   "source": [
    "import pandas as pd\n",
    "pd.read_csv('../data9724_TAR.csv.gz',compression='gzip')"
   ]
  }
 ],
 "metadata": {
  "kernelspec": {
   "display_name": "env_climateinfo",
   "language": "python",
   "name": "python3"
  },
  "language_info": {
   "codemirror_mode": {
    "name": "ipython",
    "version": 3
   },
   "file_extension": ".py",
   "mimetype": "text/x-python",
   "name": "python",
   "nbconvert_exporter": "python",
   "pygments_lexer": "ipython3",
   "version": "3.13.1"
  }
 },
 "nbformat": 4,
 "nbformat_minor": 2
}
